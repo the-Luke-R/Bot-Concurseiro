{
  "nbformat": 4,
  "nbformat_minor": 0,
  "metadata": {
    "colab": {
      "provenance": [],
      "authorship_tag": "ABX9TyOddPZrNgL+1bM/dMcnwfki",
      "include_colab_link": true
    },
    "kernelspec": {
      "name": "python3",
      "display_name": "Python 3"
    },
    "language_info": {
      "name": "python"
    }
  },
  "cells": [
    {
      "cell_type": "markdown",
      "metadata": {
        "id": "view-in-github",
        "colab_type": "text"
      },
      "source": [
        "<a href=\"https://colab.research.google.com/github/the-Luke-R/Bot_Concurseiro/blob/main/Bot_concurseiro.ipynb\" target=\"_parent\"><img src=\"https://colab.research.google.com/assets/colab-badge.svg\" alt=\"Open In Colab\"/></a>"
      ]
    },
    {
      "cell_type": "code",
      "execution_count": 10,
      "metadata": {
        "id": "3ct8YyYk2Slc"
      },
      "outputs": [],
      "source": [
        "!pip install -q -U google-generativeai\n",
        "!pip install -q -U PyPDF2"
      ]
    },
    {
      "cell_type": "code",
      "source": [
        "\"\"\"Fazemos o upload do arquivo sobre o qual serão feitas as perguntas\n",
        "\n",
        "Recomendamos este arquivo (marco legal dos jogos eletrônicos) para teste:\n",
        "https://legis.senado.leg.br/sdleg-getter/documento?dm=9206085&ts=1715006513087&disposition=inline\"\"\"\n",
        "\n",
        "from google.colab import files\n",
        "upload = files.upload()\n",
        "user_file = list(upload.keys())[0]"
      ],
      "metadata": {
        "id": "RZTxW4YH2lwT"
      },
      "execution_count": null,
      "outputs": []
    },
    {
      "cell_type": "code",
      "source": [
        "from pathlib import Path\n",
        "import hashlib\n",
        "import google.generativeai as genai\n",
        "import PyPDF2\n",
        "\n",
        "genai.configure(api_key=\"SUA_CHAVE_GOOGLE_AI_STUDIO\")\n",
        "\n",
        "# Set up the model\n",
        "generation_config = {\n",
        "  \"temperature\": 1,\n",
        "  \"top_p\": 0.95,\n",
        "  \"top_k\": 0,\n",
        "  \"max_output_tokens\": 8192,\n",
        "}\n",
        "\n",
        "safety_settings = [\n",
        "  {\n",
        "    \"category\": \"HARM_CATEGORY_HARASSMENT\",\n",
        "    \"threshold\": \"BLOCK_MEDIUM_AND_ABOVE\"\n",
        "  },\n",
        "  {\n",
        "    \"category\": \"HARM_CATEGORY_HATE_SPEECH\",\n",
        "    \"threshold\": \"BLOCK_MEDIUM_AND_ABOVE\"\n",
        "  },\n",
        "  {\n",
        "    \"category\": \"HARM_CATEGORY_SEXUALLY_EXPLICIT\",\n",
        "    \"threshold\": \"BLOCK_MEDIUM_AND_ABOVE\"\n",
        "  },\n",
        "  {\n",
        "    \"category\": \"HARM_CATEGORY_DANGEROUS_CONTENT\",\n",
        "    \"threshold\": \"BLOCK_MEDIUM_AND_ABOVE\"\n",
        "  },\n",
        "]\n",
        "\n",
        "model = genai.GenerativeModel(model_name=\"gemini-1.5-pro-latest\",\n",
        "                              generation_config=generation_config,\n",
        "                              safety_settings=safety_settings)\n",
        "\n",
        "def extract_pdf_pages(pathname: str) -> list[str]:\n",
        "  parts = [f\"--- START OF PDF ${pathname} ---\"]\n",
        "\n",
        "  with open(pathname, 'rb') as pdf_file:\n",
        "    pdf_reader = PyPDF2.PdfReader(pdf_file)\n",
        "    num_pages = len(pdf_reader.pages)\n",
        "\n",
        "    for page_num in range(num_pages):\n",
        "      page = pdf_reader.pages[page_num]\n",
        "      page_content = page.extract_text()\n",
        "      parts.append(f\"--- PAGE {page_num + 1} ---\")\n",
        "      parts.append(page_content)\n",
        "\n",
        "  return parts\n",
        "\n",
        "\n",
        "convo = model.start_chat(history=[\n",
        "  {\n",
        "    \"role\": \"user\",\n",
        "    \"parts\": extract_pdf_pages(user_file)\n",
        "  },\n",
        "  {\n",
        "    \"role\": \"user\",\n",
        "    \"parts\": [\"Você e um bot especialista em criar perguntas para estudantes ou pessoas que tem interesse em aprender. Com base no arquivo fornecido crie 5 perguntas com 5 alternativas cada utilizando o seguinte formato:\\n\\nPERGUNTAS\\n\\n1. Texto da pergunta\\nA ( ) texto da alternativa\\nB ( ) texto da alternativa\\nC ( ) texto da alternativa\\nD ( ) texto da alternativa\\nE ( ) texto da alternativa\\n\\n2. Texto da pergunta\\nA ( ) texto da alternativa\\nB ( ) texto da alternativa\\nC ( ) texto da alternativa\\nD ( ) texto da alternativa\\nE ( ) texto da alternativa\\n...\\n\\nApós o usuário responder você deve dizer as respostas e quantas perguntas o usuário acertou seguido da porcentagem\\n\\nEXEMPLO:\\n\\n-- RESPOSTAS --\\n1 - E\\n2 - C\\n...\\n\\nVocê acertou 2/5 perguntas (40%)\\n\"]\n",
        "  },\n",
        "  {\n",
        "    \"role\": \"model\",\n",
        "    \"parts\": [\"## PERGUNTAS\\n\\n1. Qual é o propósito principal da Convenção sobre os Direitos das Pessoas com Deficiência?\\nA ( ) Estabelecer um sistema de cotas para pessoas com deficiência em empregos públicos.\\nB ( ) Criar um tribunal internacional para julgar crimes contra pessoas com deficiência.\\nC ( ) Promover a igualdade de gênero entre homens e mulheres com deficiência.\\nD ( ) Assegurar a educação inclusiva para crianças com deficiência em todos os níveis.\\nE ( ) Promover, proteger e assegurar o exercício pleno e equitativo de todos os direitos humanos e liberdades fundamentais por todas as pessoas com deficiência. \\n\\n2.  Segundo a Constituição da República Federativa do Brasil, em qual situação a pena de morte é permitida?\\nA ( ) Em casos de crime hediondo.\\nB ( ) Em casos de latrocínio.\\nC ( ) Em casos de tráfico de drogas.\\nD ( ) Em casos de guerra declarada.\\nE ( ) A pena de morte é proibida em qualquer situação.\\n\\n3.  De acordo com a Constituição Brasileira, qual o órgão responsável por processar e julgar o Presidente da República em caso de crimes de responsabilidade?\\nA ( ) Supremo Tribunal Federal.\\nB ( ) Superior Tribunal de Justiça.\\nC ( ) Conselho Nacional de Justiça.\\nD ( ) Senado Federal.\\nE ( ) Câmara dos Deputados.\\n\\n4.  Qual a porcentagem mínima da receita resultante de impostos que a União deve aplicar anualmente na manutenção e desenvolvimento do ensino?\\nA ( ) 10% \\nB ( ) 15%\\nC ( ) 18%\\nD ( ) 20%\\nE ( ) 25%\\n\\n5.  A Constituição Brasileira define a família como a base da sociedade e garante a ela especial proteção do Estado. Quais formas de união são reconhecidas como entidade familiar pela Constituição?\\nA ( )  Apenas o casamento civil entre um homem e uma mulher.\\nB ( )  Casamento civil e união estável entre homem e mulher.\\nC ( )  Casamento civil, união estável entre homem e mulher, e a comunidade formada por qualquer dos pais e seus descendentes.\\nD ( )  Qualquer união entre duas pessoas, independentemente de seu gênero ou parentesco.\\nE ( )  A Constituição não define as formas de união reconhecidas como entidade familiar. \\n\\n---\\n\\nResponda às perguntas com a letra da alternativa correspondente, como no exemplo a seguir:\\n\\n1 - A, 2 - B, 3 - C, 4 - D, 5 - E\"]\n",
        "  },\n",
        "  {\n",
        "    \"role\": \"user\",\n",
        "    \"parts\": [\"1 - E\\n2 - D\\n3 - B\\n4 - A\\n5 - B\"]\n",
        "  },\n",
        "  {\n",
        "    \"role\": \"model\",\n",
        "    \"parts\": [\"-- RESPOSTAS --\\n1 - E\\n2 - D\\n3 - D\\n4 - C\\n5 - C\\n\\nVocê acertou 3/5 perguntas (60%)\"]\n",
        "  },\n",
        "])\n"
      ],
      "metadata": {
        "id": "aV6fAdaoKfuH"
      },
      "execution_count": 28,
      "outputs": []
    },
    {
      "cell_type": "code",
      "source": [
        "create_question_prompt = f\"Com base no arquivo {user_file}, crie 5 perguntas com 5 alternativas cada no final \\n---------------------------------------------------------------------------------\"\n",
        "print(create_question_prompt)\n",
        "convo.send_message(create_question_prompt)\n",
        "print(convo.last.text)\n",
        "user_answers = input(\"Digites as suas respostas:\\n\\n\")\n",
        "convo.send_message(user_answers)\n",
        "print(convo.last.text)\n",
        "\n",
        "prompt = input(\"Você gostaria de responder mais perguntas? \\n\\n digite 's' para continuar e 'n' para encerrar e aperte enter \\n\\n\")\n",
        "while prompt == \"s\":\n",
        "  convo.send_message(create_question_prompt)\n",
        "  print(convo.last.text)\n",
        "  user_answers = input(\"Digites as suas respostas:\\n\\n\")\n",
        "  convo.send_message(user_answers)\n",
        "  print(convo.last.text)\n",
        "  prompt = input(\"Você gostaria de responder mais perguntas? \\n\\n digite 's' para continuar e 'n' para encerrar e aperte enter \\n\\n\")"
      ],
      "metadata": {
        "id": "hAJRuFU7Bg9s"
      },
      "execution_count": null,
      "outputs": []
    }
  ]
}